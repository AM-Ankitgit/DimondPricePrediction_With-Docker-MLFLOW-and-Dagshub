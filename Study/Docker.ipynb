{
 "cells": [
  {
   "cell_type": "markdown",
   "metadata": {},
   "source": [
    "# Docker\n",
    "(it is platform as  service (PAAS))\n",
    "\n",
    "Docker is a platform (company) designed to make it easier to `create, deploy, and run applications by using containers.` Containers allow a developer to package up an application with all the parts it needs, such as libraries and other dependencies, and ship it all out as one package. This ensures that the application will run on any other Linux machine regardless of any customized settings that machine might have that could differ from the machine used for writing and testing the code.\n"
   ]
  },
  {
   "cell_type": "markdown",
   "metadata": {},
   "source": [
    "# Docker Commands"
   ]
  },
  {
   "cell_type": "markdown",
   "metadata": {},
   "source": [
    "# Docker Version and Information\n",
    "docker version               # Show Docker version information\n",
    "docker info                  # Display system-wide information\n",
    "\n",
    "# Working with Docker Containers\n",
    "docker run [OPTIONS] IMAGE [COMMAND] [ARG...]   # Create and start a container\n",
    "docker ps                                      # List running containers\n",
    "docker ps -a                                   # List all containers (including stopped)\n",
    "docker stop CONTAINER_ID_or_NAME               # Stop a running container\n",
    "docker start CONTAINER_ID_or_NAME              # Start a stopped container\n",
    "docker restart CONTAINER_ID_or_NAME            # Restart a container\n",
    "docker rm CONTAINER_ID_or_NAME                 # Remove one or more containers\n",
    "docker logs CONTAINER_ID_or_NAME               # Fetch the logs of a container\n",
    "docker exec -it CONTAINER_ID_or_NAME       # Execute a command inside a container\n",
    "\n",
    "# Managing Images\n",
    "docker images                                 # List all local images\n",
    "docker pull IMAGE_NAME                        # Pull an image from a registry\n",
    "docker push IMAGE_NAME                        # Push an image to a registry\n",
    "docker rmi IMAGE_ID                           # Remove one or more images\n",
    "docker build -t TAG .                         # Build an image from a Dockerfile\n",
    "docker history IMAGE_ID                       # Show the history of an image\n",
    "docker save -o filename.tar IMAGE_ID          # Save an image to a tar archive\n",
    "docker load -i filename.tar                   # Load an image from a tar archive\n",
    "\n",
    "# Docker Networking\n",
    "docker network ls                             # List networks\n",
    "docker network create NETWORK_NAME            # Create a network\n",
    "docker network rm NETWORK_NAME                # Remove one or more networks\n",
    "docker network connect NETWORK_NAME CONTAINER # Connect a container to a network\n",
    "docker network disconnect NETWORK_NAME CONTAINER # Disconnect a container from a network\n",
    "\n",
    "# Docker Volumes\n",
    "docker volume ls                              # List volumes\n",
    "docker volume create VOLUME_NAME              # Create a volume\n",
    "docker volume rm VOLUME_NAME                  # Remove volumes\n",
    "\n",
    "# Docker Compose (for multi-container environments)\n",
    "docker-compose up                             # Create and start containers\n",
    "docker-compose down                           # Stop and remove resources\n",
    "docker-compose logs                           # View output from containers\n",
    "docker-compose restart                        # Restart services\n",
    "docker-compose build                          # Build or rebuild services\n",
    "\n",
    "# Docker System Management\n",
    "docker system df                              # Show docker disk usage\n",
    "docker system prune                           # Remove unused data\n",
    "docker system prune -a                        # Remove all unused images not just dangling ones\n",
    "\n",
    "# Miscellaneous Docker Commands\n",
    "docker inspect CONTAINER_or_IMAGE             # Return low-level information on Docker objects\n",
    "docker stats                                  # Display a live stream of container(s) resource usage statistics\n",
    "docker login [SERVER]                         # Log in to a Docker registry server\n",
    "docker logout [SERVER]                        # Log out from a Docker registry server\n",
    "\n",
    "# Environment and Configuration\n",
    "docker config ls                              # List Docker configs\n",
    "docker context ls                             # List Docker contexts\n"
   ]
  },
  {
   "cell_type": "markdown",
   "metadata": {},
   "source": [
    "# Docker Engine\n",
    "The Docker Engine is the core of Docker and operates at the system level. It's a client-server application with:\n",
    "\n",
    "A server as a type of long-running program called a daemon process (the dockerd command).\n",
    "A REST API which specifies interfaces that programs can use to talk to the daemon and instruct it what to do.\n",
    "A command-line interface (CLI) client (docker).\n",
    "The Docker daemon (dockerd) listens for Docker API requests and manages Docker objects such as images, containers, networks, and volumes. A Docker client is typically the primary way users interact with Docker."
   ]
  },
  {
   "cell_type": "markdown",
   "metadata": {},
   "source": [
    "# Docker Images\n",
    "A Docker image is a lightweight, standalone, executable package that includes everything needed to run a software application: code, runtime, libraries, environment variables, and configuration files. Images serve as a base foundation for running containers. Docker images are generally built from a series of layers, which are created with instructions in a Dockerfile. Each layer represents an instruction in the Dockerfile. When an image is updated, only the layers that changed are rebuilt."
   ]
  },
  {
   "cell_type": "markdown",
   "metadata": {},
   "source": [
    "# Docker Containers\n",
    "A container is a runnable instance of an image. You can use Docker API or CLI to start, stop, and manage containers. When you run a container, Docker takes the image, adds a top writable layer, and initializes various settings (network ports, container names, ID, and resource limits). All changes made to the running container, such as writing new files, modifying existing files, and deleting files, are written to this thin writable layer."
   ]
  },
  {
   "cell_type": "markdown",
   "metadata": {},
   "source": [
    "# Docker Containers\n",
    "A container is a runnable instance of an image. You can use Docker API or CLI to start, stop, and manage containers. When you run a container, Docker takes the image, adds a top writable layer, and initializes various settings (network ports, container names, ID, and resource limits). All changes made to the running container, such as writing new files, modifying existing files, and deleting files, are written to this thin writable layer."
   ]
  },
  {
   "cell_type": "markdown",
   "metadata": {},
   "source": [
    "# How Docker Works (Step-by-Step)\n",
    "`Dockerfile:` Everything starts with a Dockerfile. This file contains a series of instructions on how to build a Docker image, such as base images to use, software to install, and commands to run.\n",
    "\n",
    "`Building an Image:` You build an image from a Dockerfile using the docker build command. This process reads the Dockerfile, executes the instructions, and results in a Docker image.\n",
    "\n",
    "`Running a Container:` Once an image is built, you can run it in a container. Using the docker run command, Docker creates a container from the image, allocates a filesystem and memory, sets up a network interface, and executes the application.\n",
    "\n",
    "`Layered Architecture:` Each image and container layer is managed by Docker. Only the top layer of a container is writable, which helps minimize disk usage and image download times.\n",
    "\n",
    "`Sharing Images:` After building your images, you can push them to Docker Hub or a private registry, making it easy to share images among different team members or deploy applications across multiple environments.\n",
    "\n",
    "`Isolation and Security:` Containers are isolated from each other and the host system. Docker provides strong defaults, namespaces, and cgroups, which limit the amount of resources a container can use and what it can access."
   ]
  },
  {
   "cell_type": "markdown",
   "metadata": {},
   "source": [
    "## Architecture\n",
    "`Docker Containers:` Share the host OS's kernel, lightweight as they do not include a full OS, only the application and its dependencies.\n",
    "\n",
    "\n",
    "`Virtual Machines:` Each VM runs a full OS with a virtual copy of necessary hardware, managed by a hypervisor.\n",
    "\n",
    "# Performance\n",
    "`Docker Containers`: Near-native performance, faster start-up times due to less overhead.\n",
    "\n",
    "`Virtual Machines:` Generally slower performance and start-up due to the overhead of running a full OS and emulating hardware.\n",
    "\n",
    "# Resource Isolation and Security\n",
    "`Docker Containers:` Less isolated, sharing the host's kernel, with potential security risks if not properly managed.\n",
    "\n",
    "`Virtual Machines:` Strong isolation with a separate kernel, offering better security.\n",
    "\n",
    "# Storage and Size\n",
    "`Docker Containers:` Smaller image sizes, efficient storage with shared layers between containers.\n",
    "\n",
    "`Virtual Machines:` Larger image sizes due to full OS included, resulting in more disk space usage.\n",
    "# Management\n",
    "`Docker Containers:` Easier to manage in high-density environments using tools like Kubernetes for orchestration.\n",
    "\n",
    "`Virtual Machines: `Managed by hypervisor-specific tools; can be more complex and prone to VM sprawl.\n",
    "\n",
    "# Use Cases\n",
    "`Docker Containers:` Ideal for microservices, continuous development, and testing environments.\n",
    "\n",
    "`Virtual Machines:` Better suited for applications requiring full isolation, legacy applications, and environments needing multiple OS types."
   ]
  },
  {
   "cell_type": "code",
   "execution_count": null,
   "metadata": {
    "vscode": {
     "languageId": "plaintext"
    }
   },
   "outputs": [],
   "source": [
    "# Port Mapping\n",
    "\n",
    "How Port Mapping Works\n",
    "When you run a container, Docker uses a private and isolated networking environment for each container. This includes a separate IP address, which is typically not accessible outside the host by default. If you have an application running inside a container, such as a web server listening on port 80, that port is only available to other processes within the same container or linked containers, unless explicitly mapped to the host.\n",
    "\n",
    "Example of Port Mapping\n",
    "Suppose you have a web server running inside a Docker container that listens on port 80. If you want to access this web server from your browser by using the Docker host's IP address, you need to map the container's port 80 to a port on the Docker host. Here’s how you would do that using the docker run command:\n",
    "\n",
    "\n",
    "docker run -p 8080:80 some/web-app\n",
    "Here’s what the -p 8080:80 means:\n",
    "\n",
    "\n",
    "\n",
    "8080: This is the host port. It's the port on your physical machine or Docker host. After running the command, the web server can be accessed on this port.\n",
    "\n",
    "80: This is the container port. It's the port your application inside the container is set to use.\n",
    "Accessing the Application\n",
    "\n",
    "\n",
    "After running the above command, you can open a web browser and go to http://localhost:8080 or http://<docker-host-ip>:8080 (replace <docker-host-ip> with the actual IP address of your Docker host). This request will be routed to the web server inside the container on port 80.\n",
    "\n",
    "Multiple Port Mappings\n",
    "You can map multiple ports by specifying the -p option multiple times in the Docker run command. For instance, if a container has a web server on port 80 and a database server on port 3306, you could map both like this:\n",
    "\n",
    "\n",
    "\n",
    "docker run -p 8080:80 -p 33060:3306 some/full-stack-app\n",
    "Port Ranges\n",
    "Docker also supports mapping a range of ports using a single -p argument:\n",
    "\n",
    "\n",
    "\n",
    "docker run -p 7000-8000:7000-8000 some/app\n",
    "Automatic Port Mapping\n",
    "\n",
    "\n",
    "If you don’t want to specify a host port and are okay with Docker choosing one for you, you can use the -P flag (capital P), which tells Docker to bind each exposed port to a random high-numbered port on the host:\n",
    "\n",
    "\n",
    "docker run -P some/web-app\n",
    "You can then find out what port Docker assigned by running docker ps and looking at the \"PORTS\" section."
   ]
  },
  {
   "cell_type": "markdown",
   "metadata": {},
   "source": [
    "# `Docker Network`\n",
    "Docker networks facilitate communication between Docker containers, and between Docker containers and the outside world. When you install Docker, it automatically creates several networks; you can list them with docker network ls. Here’s what Docker networks typically provide:\n",
    "\n",
    "\n",
    "`Isolation and Segmentation:` Docker networks can be used to isolate containers from each other or to allow them to communicate. This is useful for structuring applications according to their network requirements.\n",
    "\n",
    "\n",
    "`Driver Support:` Docker supports multiple network drivers. The default bridge network is suitable for standalone containers that need to communicate. \n",
    "Other types, like overlay networks, support multi-host networking for Docker Swarm, and macvlan networks can be used to assign a MAC address to a container, making it appear as a physical device on your network.\n",
    "\n",
    "\n",
    "`User-Defined Networks:` Users can create their own custom networks using Docker’s network creation feature. This allows for more granular control over container networking.\n",
    "\n",
    "\n",
    "Example of creating a user-defined bridge network:\n",
    "\n",
    "\n",
    "docker network create --driver bridge my-custom-network\n"
   ]
  },
  {
   "cell_type": "markdown",
   "metadata": {},
   "source": [
    "# Docker Volume\n",
    "Docker volumes are used for persistent or shared data among containers. Volumes are managed by Docker and are safer and more flexible than persisting data in a container's writable layer or using bind mounts from the host system. Here are the key features:\n",
    "\n",
    "`Data Persistence:` Unlike data in a container’s filesystem, data in a volume is not tied to the life of a container. It remains intact even after the container is deleted.\n",
    "\n",
    "`Sharing and Reuse:` Volumes can be shared among multiple containers and can be reused by other containers.\n",
    "Driver Support: Docker supports several volume drivers that allow storing volumes on remote hosts or cloud providers, enhancing data storage options.\n",
    "Example of creating and using a volume:\n",
    "\n",
    "\n",
    "\n",
    "docker volume create my-vol\n",
    "docker run -d --name devtest -v my-vol:/app nginx"
   ]
  },
  {
   "cell_type": "markdown",
   "metadata": {},
   "source": [
    "`Docker Compose`\n",
    "\n",
    "Docker Compose is a tool for defining and running multi-container Docker applications. With Compose, you use a  file to configure your application’s services, networks, and volumes. \n",
    "\n",
    "## Here are its main benefits:\n",
    "\n",
    "`Simplified Configuration: `Define your Docker environment in a docker-compose.yml file, and then execute a few simple commands to get everything up and running.\n",
    "\n",
    "`Multi-Service Management: Easily` start, stop, and rebuild services as a group or individually.\n",
    "\n",
    "`Development Environments: `Provides a convenient way to manage and isolate application environments along with their dependencies.\n",
    "\n",
    "\n",
    "\n",
    "\n",
    "Example docker-compose.yml file for a simple web application:\n",
    "\n",
    "\n",
    "\n",
    "version: '3'\n",
    "services:\n",
    "  web:\n",
    "    image: nginx\n",
    "    ports:\n",
    "      - \"8080:80\"\n",
    "    volumes:\n",
    "      - web-data:/var/www/html\n",
    "  database:\n",
    "    image: postgres\n",
    "    volumes:\n",
    "      - db-data:/var/lib/postgresql/data\n",
    "\n",
    "volumes:\n",
    "  web-data:\n",
    "  db-data:\n",
    "\n",
    "  \n",
    "With Docker Compose, you could start the entire stack with docker-compose up and shut it down with docker-compose down. This simplicity is particularly helpful for local development environments and testing."
   ]
  },
  {
   "cell_type": "markdown",
   "metadata": {},
   "source": []
  }
 ],
 "metadata": {
  "language_info": {
   "name": "python"
  }
 },
 "nbformat": 4,
 "nbformat_minor": 2
}
